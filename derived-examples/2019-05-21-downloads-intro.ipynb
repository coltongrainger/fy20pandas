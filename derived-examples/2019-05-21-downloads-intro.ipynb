{
 "cells": [
  {
   "cell_type": "markdown",
   "metadata": {},
   "source": [
    "## This notebook demonstrates how to download an image from a remote URL hosted\n",
    "at the National Archives Catalog.  These images are collections of scanned pages\n",
    "from historic ship logs; see https://catalog.archives.gov/id/23709729 for an\n",
    "example.\n",
    "\n",
    "### Import libraries"
   ]
  },
  {
   "cell_type": "code",
   "execution_count": 14,
   "metadata": {
    "attributes": {
     "classes": [],
     "id": "",
     "n": "14"
    }
   },
   "outputs": [],
   "source": [
    "import os\n",
    "import requests\n",
    "from pathlib import Path"
   ]
  },
  {
   "cell_type": "markdown",
   "metadata": {},
   "source": [
    "### Define URL parameters"
   ]
  },
  {
   "cell_type": "code",
   "execution_count": 16,
   "metadata": {
    "attributes": {
     "classes": [],
     "id": "",
     "n": "16"
    }
   },
   "outputs": [],
   "source": [
    "base_url = 'https://catalog.archives.gov/'\n",
    "nara_id = '23709293'\n",
    "digital_directory = 'Aivik-1943-01'\n",
    "record_group = 'rg-026'\n",
    "num_images = 38"
   ]
  },
  {
   "cell_type": "markdown",
   "metadata": {},
   "source": [
    "### Download a single image"
   ]
  },
  {
   "cell_type": "code",
   "execution_count": 17,
   "metadata": {
    "attributes": {
     "classes": [],
     "id": "",
     "n": "17"
    }
   },
   "outputs": [],
   "source": [
    "# Sample image URL:\n",
    "# https://catalog.archives.gov/OpaAPI/media/23709293/content/dc-metro/rg-026/587169/0002/Aivik-1943-01/Aivik-1943-01_0004.JPG\n",
    "\n",
    "img = \"{0}_0001.JPG\".format(digital_directory)\n",
    "\n",
    "url = \"{0}OpaAPI/media/{1}/content/dc-metro/{2}/587169/0002/{3}/{4}\".format(base_url, nara_id, record_group, digital_directory, img)\n",
    "r = requests.get(url)"
   ]
  },
  {
   "cell_type": "code",
   "execution_count": 18,
   "metadata": {
    "attributes": {
     "classes": [],
     "id": "",
     "n": "18"
    }
   },
   "outputs": [
    {
     "data": {
      "text/plain": [
       "200"
      ]
     },
     "execution_count": 18,
     "metadata": {},
     "output_type": "execute_result"
    }
   ],
   "source": [
    "r.status_code"
   ]
  },
  {
   "cell_type": "code",
   "execution_count": 13,
   "metadata": {
    "attributes": {
     "classes": [],
     "id": "",
     "n": "13"
    }
   },
   "outputs": [],
   "source": [
    "# Local path to store image.  We will store these on the GLADE filesystem in the parent directory /glade/collections/rda/work/image_archive.\n",
    "# path = '/glade/collections/rda/work/image_archive/{0}'.format(digital_directory)\n",
    "path = '/home/colton/fy/20/pandas/derived-examples/{0}'.format(digital_directory)\n",
    "# Create directory if needed\n",
    "p = Path(path)\n",
    "if (p.exists() == False and p.is_dir() == False):\n",
    "    os.mkdir(path)\n",
    "\n",
    "local_filename = \"{0}/{1}_0001.jpg\".format(path, digital_directory)\n",
    "\n",
    "if r.status_code == 200:\n",
    "    with open(local_filename, 'wb') as f:\n",
    "        f.write(r.content)"
   ]
  },
  {
   "cell_type": "markdown",
   "metadata": {},
   "source": [
    "### Generalize the above code block to download multiple images"
   ]
  }
 ],
 "metadata": {},
 "nbformat": 4,
 "nbformat_minor": 2
}
