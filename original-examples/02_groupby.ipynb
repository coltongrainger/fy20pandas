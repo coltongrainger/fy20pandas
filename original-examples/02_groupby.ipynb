{
 "cells": [
  {
   "cell_type": "markdown",
   "metadata": {},
   "source": [
    "# Group by "
   ]
  },
  {
   "cell_type": "markdown",
   "metadata": {},
   "source": [
    "Let's take our hvac data and look at the mean power for houses with and without solar."
   ]
  },
  {
   "cell_type": "code",
   "execution_count": 35,
   "metadata": {},
   "outputs": [],
   "source": [
    "import pandas as pd\n",
    "\n",
    "import seaborn as sns\n",
    "import matplotlib.pyplot as plt\n",
    "\n",
    "sns.set(rc={'figure.figsize':(12,6)})\n",
    "plt.style.use(['seaborn-whitegrid'])\n",
    "\n",
    "import warnings\n",
    "warnings.simplefilter('ignore')"
   ]
  },
  {
   "cell_type": "code",
   "execution_count": 36,
   "metadata": {},
   "outputs": [
    {
     "data": {
      "text/html": [
       "<div>\n",
       "<style scoped>\n",
       "    .dataframe tbody tr th:only-of-type {\n",
       "        vertical-align: middle;\n",
       "    }\n",
       "\n",
       "    .dataframe tbody tr th {\n",
       "        vertical-align: top;\n",
       "    }\n",
       "\n",
       "    .dataframe thead th {\n",
       "        text-align: right;\n",
       "    }\n",
       "</style>\n",
       "<table border=\"1\" class=\"dataframe\">\n",
       "  <thead>\n",
       "    <tr style=\"text-align: right;\">\n",
       "      <th></th>\n",
       "      <th>triplex_meter_0</th>\n",
       "      <th>triplex_meter_1</th>\n",
       "      <th>triplex_meter_2</th>\n",
       "      <th>triplex_meter_3</th>\n",
       "      <th>triplex_meter_4</th>\n",
       "      <th>triplex_meter_5</th>\n",
       "      <th>triplex_meter_6</th>\n",
       "      <th>triplex_meter_7</th>\n",
       "      <th>triplex_meter_8</th>\n",
       "      <th>triplex_meter_9</th>\n",
       "      <th>triplex_meter_10</th>\n",
       "      <th>triplex_meter_11</th>\n",
       "      <th>triplex_meter_12</th>\n",
       "      <th>triplex_meter_13</th>\n",
       "      <th>triplex_meter_14</th>\n",
       "      <th>triplex_meter_15</th>\n",
       "      <th>triplex_meter_16</th>\n",
       "      <th>triplex_meter_17</th>\n",
       "      <th>triplex_meter_18</th>\n",
       "      <th>triplex_meter_19</th>\n",
       "    </tr>\n",
       "    <tr>\n",
       "      <th>timestamp</th>\n",
       "      <th></th>\n",
       "      <th></th>\n",
       "      <th></th>\n",
       "      <th></th>\n",
       "      <th></th>\n",
       "      <th></th>\n",
       "      <th></th>\n",
       "      <th></th>\n",
       "      <th></th>\n",
       "      <th></th>\n",
       "      <th></th>\n",
       "      <th></th>\n",
       "      <th></th>\n",
       "      <th></th>\n",
       "      <th></th>\n",
       "      <th></th>\n",
       "      <th></th>\n",
       "      <th></th>\n",
       "      <th></th>\n",
       "      <th></th>\n",
       "    </tr>\n",
       "  </thead>\n",
       "  <tbody>\n",
       "    <tr>\n",
       "      <th>2013-07-01 00:00:00</th>\n",
       "      <td>510.912</td>\n",
       "      <td>510.912</td>\n",
       "      <td>510.912</td>\n",
       "      <td>547.924</td>\n",
       "      <td>510.912</td>\n",
       "      <td>510.912</td>\n",
       "      <td>547.924</td>\n",
       "      <td>547.924</td>\n",
       "      <td>581.637</td>\n",
       "      <td>581.637</td>\n",
       "      <td>384.146</td>\n",
       "      <td>384.146</td>\n",
       "      <td>384.146</td>\n",
       "      <td>531.494</td>\n",
       "      <td>531.494</td>\n",
       "      <td>531.494</td>\n",
       "      <td>530.845</td>\n",
       "      <td>530.845</td>\n",
       "      <td>271.123</td>\n",
       "      <td>383.677</td>\n",
       "    </tr>\n",
       "    <tr>\n",
       "      <th>2013-07-01 00:01:00</th>\n",
       "      <td>510.912</td>\n",
       "      <td>510.912</td>\n",
       "      <td>510.912</td>\n",
       "      <td>547.924</td>\n",
       "      <td>510.912</td>\n",
       "      <td>510.912</td>\n",
       "      <td>547.924</td>\n",
       "      <td>547.924</td>\n",
       "      <td>581.637</td>\n",
       "      <td>581.637</td>\n",
       "      <td>384.146</td>\n",
       "      <td>384.146</td>\n",
       "      <td>384.146</td>\n",
       "      <td>531.494</td>\n",
       "      <td>531.494</td>\n",
       "      <td>531.494</td>\n",
       "      <td>530.845</td>\n",
       "      <td>530.845</td>\n",
       "      <td>271.123</td>\n",
       "      <td>383.677</td>\n",
       "    </tr>\n",
       "    <tr>\n",
       "      <th>2013-07-01 00:02:00</th>\n",
       "      <td>510.912</td>\n",
       "      <td>510.912</td>\n",
       "      <td>510.912</td>\n",
       "      <td>547.924</td>\n",
       "      <td>510.912</td>\n",
       "      <td>510.912</td>\n",
       "      <td>547.924</td>\n",
       "      <td>547.924</td>\n",
       "      <td>581.637</td>\n",
       "      <td>581.637</td>\n",
       "      <td>384.146</td>\n",
       "      <td>384.146</td>\n",
       "      <td>384.146</td>\n",
       "      <td>531.494</td>\n",
       "      <td>531.494</td>\n",
       "      <td>531.494</td>\n",
       "      <td>530.845</td>\n",
       "      <td>530.845</td>\n",
       "      <td>271.123</td>\n",
       "      <td>383.677</td>\n",
       "    </tr>\n",
       "    <tr>\n",
       "      <th>2013-07-01 00:03:00</th>\n",
       "      <td>510.912</td>\n",
       "      <td>510.912</td>\n",
       "      <td>510.912</td>\n",
       "      <td>547.924</td>\n",
       "      <td>510.912</td>\n",
       "      <td>510.912</td>\n",
       "      <td>547.924</td>\n",
       "      <td>547.924</td>\n",
       "      <td>581.637</td>\n",
       "      <td>581.637</td>\n",
       "      <td>384.146</td>\n",
       "      <td>384.146</td>\n",
       "      <td>384.146</td>\n",
       "      <td>531.494</td>\n",
       "      <td>531.494</td>\n",
       "      <td>531.494</td>\n",
       "      <td>530.845</td>\n",
       "      <td>530.845</td>\n",
       "      <td>271.123</td>\n",
       "      <td>383.677</td>\n",
       "    </tr>\n",
       "    <tr>\n",
       "      <th>2013-07-01 00:04:00</th>\n",
       "      <td>510.911</td>\n",
       "      <td>510.911</td>\n",
       "      <td>510.911</td>\n",
       "      <td>547.922</td>\n",
       "      <td>510.911</td>\n",
       "      <td>510.911</td>\n",
       "      <td>547.922</td>\n",
       "      <td>547.922</td>\n",
       "      <td>581.645</td>\n",
       "      <td>581.645</td>\n",
       "      <td>384.151</td>\n",
       "      <td>384.151</td>\n",
       "      <td>384.151</td>\n",
       "      <td>384.151</td>\n",
       "      <td>531.501</td>\n",
       "      <td>531.501</td>\n",
       "      <td>530.849</td>\n",
       "      <td>530.849</td>\n",
       "      <td>271.125</td>\n",
       "      <td>383.680</td>\n",
       "    </tr>\n",
       "  </tbody>\n",
       "</table>\n",
       "</div>"
      ],
      "text/plain": [
       "                     triplex_meter_0  triplex_meter_1  triplex_meter_2  \\\n",
       "timestamp                                                                \n",
       "2013-07-01 00:00:00          510.912          510.912          510.912   \n",
       "2013-07-01 00:01:00          510.912          510.912          510.912   \n",
       "2013-07-01 00:02:00          510.912          510.912          510.912   \n",
       "2013-07-01 00:03:00          510.912          510.912          510.912   \n",
       "2013-07-01 00:04:00          510.911          510.911          510.911   \n",
       "\n",
       "                     triplex_meter_3  triplex_meter_4  triplex_meter_5  \\\n",
       "timestamp                                                                \n",
       "2013-07-01 00:00:00          547.924          510.912          510.912   \n",
       "2013-07-01 00:01:00          547.924          510.912          510.912   \n",
       "2013-07-01 00:02:00          547.924          510.912          510.912   \n",
       "2013-07-01 00:03:00          547.924          510.912          510.912   \n",
       "2013-07-01 00:04:00          547.922          510.911          510.911   \n",
       "\n",
       "                     triplex_meter_6  triplex_meter_7  triplex_meter_8  \\\n",
       "timestamp                                                                \n",
       "2013-07-01 00:00:00          547.924          547.924          581.637   \n",
       "2013-07-01 00:01:00          547.924          547.924          581.637   \n",
       "2013-07-01 00:02:00          547.924          547.924          581.637   \n",
       "2013-07-01 00:03:00          547.924          547.924          581.637   \n",
       "2013-07-01 00:04:00          547.922          547.922          581.645   \n",
       "\n",
       "                     triplex_meter_9  triplex_meter_10  triplex_meter_11  \\\n",
       "timestamp                                                                  \n",
       "2013-07-01 00:00:00          581.637           384.146           384.146   \n",
       "2013-07-01 00:01:00          581.637           384.146           384.146   \n",
       "2013-07-01 00:02:00          581.637           384.146           384.146   \n",
       "2013-07-01 00:03:00          581.637           384.146           384.146   \n",
       "2013-07-01 00:04:00          581.645           384.151           384.151   \n",
       "\n",
       "                     triplex_meter_12  triplex_meter_13  triplex_meter_14  \\\n",
       "timestamp                                                                   \n",
       "2013-07-01 00:00:00           384.146           531.494           531.494   \n",
       "2013-07-01 00:01:00           384.146           531.494           531.494   \n",
       "2013-07-01 00:02:00           384.146           531.494           531.494   \n",
       "2013-07-01 00:03:00           384.146           531.494           531.494   \n",
       "2013-07-01 00:04:00           384.151           384.151           531.501   \n",
       "\n",
       "                     triplex_meter_15  triplex_meter_16  triplex_meter_17  \\\n",
       "timestamp                                                                   \n",
       "2013-07-01 00:00:00           531.494           530.845           530.845   \n",
       "2013-07-01 00:01:00           531.494           530.845           530.845   \n",
       "2013-07-01 00:02:00           531.494           530.845           530.845   \n",
       "2013-07-01 00:03:00           531.494           530.845           530.845   \n",
       "2013-07-01 00:04:00           531.501           530.849           530.849   \n",
       "\n",
       "                     triplex_meter_18  triplex_meter_19  \n",
       "timestamp                                                \n",
       "2013-07-01 00:00:00           271.123           383.677  \n",
       "2013-07-01 00:01:00           271.123           383.677  \n",
       "2013-07-01 00:02:00           271.123           383.677  \n",
       "2013-07-01 00:03:00           271.123           383.677  \n",
       "2013-07-01 00:04:00           271.125           383.680  "
      ]
     },
     "execution_count": 36,
     "metadata": {},
     "output_type": "execute_result"
    }
   ],
   "source": [
    "import utils\n",
    "\n",
    "df = utils.read_csv('data/measured_real_power.csv')\n",
    "df.head()"
   ]
  },
  {
   "cell_type": "code",
   "execution_count": 37,
   "metadata": {},
   "outputs": [
    {
     "data": {
      "text/html": [
       "<div>\n",
       "<style scoped>\n",
       "    .dataframe tbody tr th:only-of-type {\n",
       "        vertical-align: middle;\n",
       "    }\n",
       "\n",
       "    .dataframe tbody tr th {\n",
       "        vertical-align: top;\n",
       "    }\n",
       "\n",
       "    .dataframe thead th {\n",
       "        text-align: right;\n",
       "    }\n",
       "</style>\n",
       "<table border=\"1\" class=\"dataframe\">\n",
       "  <thead>\n",
       "    <tr style=\"text-align: right;\">\n",
       "      <th></th>\n",
       "      <th>triplex_meter_0</th>\n",
       "    </tr>\n",
       "    <tr>\n",
       "      <th>timestamp</th>\n",
       "      <th></th>\n",
       "    </tr>\n",
       "  </thead>\n",
       "  <tbody>\n",
       "    <tr>\n",
       "      <th>2013-07-01 00:00:00</th>\n",
       "      <td>510.912</td>\n",
       "    </tr>\n",
       "    <tr>\n",
       "      <th>2013-07-01 00:01:00</th>\n",
       "      <td>510.912</td>\n",
       "    </tr>\n",
       "    <tr>\n",
       "      <th>2013-07-01 00:02:00</th>\n",
       "      <td>510.912</td>\n",
       "    </tr>\n",
       "    <tr>\n",
       "      <th>2013-07-01 00:03:00</th>\n",
       "      <td>510.912</td>\n",
       "    </tr>\n",
       "    <tr>\n",
       "      <th>2013-07-01 00:04:00</th>\n",
       "      <td>510.911</td>\n",
       "    </tr>\n",
       "  </tbody>\n",
       "</table>\n",
       "</div>"
      ],
      "text/plain": [
       "                     triplex_meter_0\n",
       "timestamp                           \n",
       "2013-07-01 00:00:00          510.912\n",
       "2013-07-01 00:01:00          510.912\n",
       "2013-07-01 00:02:00          510.912\n",
       "2013-07-01 00:03:00          510.912\n",
       "2013-07-01 00:04:00          510.911"
      ]
     },
     "execution_count": 37,
     "metadata": {},
     "output_type": "execute_result"
    }
   ],
   "source": [
    "df[['triplex_meter_0']].head()"
   ]
  },
  {
   "cell_type": "markdown",
   "metadata": {},
   "source": [
    "Lets **melt** again..."
   ]
  },
  {
   "cell_type": "code",
   "execution_count": 38,
   "metadata": {},
   "outputs": [
    {
     "data": {
      "text/html": [
       "<div>\n",
       "<style scoped>\n",
       "    .dataframe tbody tr th:only-of-type {\n",
       "        vertical-align: middle;\n",
       "    }\n",
       "\n",
       "    .dataframe tbody tr th {\n",
       "        vertical-align: top;\n",
       "    }\n",
       "\n",
       "    .dataframe thead th {\n",
       "        text-align: right;\n",
       "    }\n",
       "</style>\n",
       "<table border=\"1\" class=\"dataframe\">\n",
       "  <thead>\n",
       "    <tr style=\"text-align: right;\">\n",
       "      <th></th>\n",
       "      <th>timestamp</th>\n",
       "      <th>variable</th>\n",
       "      <th>value</th>\n",
       "    </tr>\n",
       "  </thead>\n",
       "  <tbody>\n",
       "    <tr>\n",
       "      <th>0</th>\n",
       "      <td>2013-07-01 00:00:00</td>\n",
       "      <td>triplex_meter_0</td>\n",
       "      <td>510.912</td>\n",
       "    </tr>\n",
       "    <tr>\n",
       "      <th>1</th>\n",
       "      <td>2013-07-01 00:01:00</td>\n",
       "      <td>triplex_meter_0</td>\n",
       "      <td>510.912</td>\n",
       "    </tr>\n",
       "    <tr>\n",
       "      <th>2</th>\n",
       "      <td>2013-07-01 00:02:00</td>\n",
       "      <td>triplex_meter_0</td>\n",
       "      <td>510.912</td>\n",
       "    </tr>\n",
       "    <tr>\n",
       "      <th>3</th>\n",
       "      <td>2013-07-01 00:03:00</td>\n",
       "      <td>triplex_meter_0</td>\n",
       "      <td>510.912</td>\n",
       "    </tr>\n",
       "    <tr>\n",
       "      <th>4</th>\n",
       "      <td>2013-07-01 00:04:00</td>\n",
       "      <td>triplex_meter_0</td>\n",
       "      <td>510.911</td>\n",
       "    </tr>\n",
       "  </tbody>\n",
       "</table>\n",
       "</div>"
      ],
      "text/plain": [
       "            timestamp         variable    value\n",
       "0 2013-07-01 00:00:00  triplex_meter_0  510.912\n",
       "1 2013-07-01 00:01:00  triplex_meter_0  510.912\n",
       "2 2013-07-01 00:02:00  triplex_meter_0  510.912\n",
       "3 2013-07-01 00:03:00  triplex_meter_0  510.912\n",
       "4 2013-07-01 00:04:00  triplex_meter_0  510.911"
      ]
     },
     "execution_count": 38,
     "metadata": {},
     "output_type": "execute_result"
    }
   ],
   "source": [
    "stacked = df.reset_index().melt(id_vars='timestamp')\n",
    "stacked.head()"
   ]
  },
  {
   "cell_type": "markdown",
   "metadata": {},
   "source": [
    "Clean up the column names"
   ]
  },
  {
   "cell_type": "code",
   "execution_count": 39,
   "metadata": {},
   "outputs": [
    {
     "data": {
      "text/html": [
       "<div>\n",
       "<style scoped>\n",
       "    .dataframe tbody tr th:only-of-type {\n",
       "        vertical-align: middle;\n",
       "    }\n",
       "\n",
       "    .dataframe tbody tr th {\n",
       "        vertical-align: top;\n",
       "    }\n",
       "\n",
       "    .dataframe thead th {\n",
       "        text-align: right;\n",
       "    }\n",
       "</style>\n",
       "<table border=\"1\" class=\"dataframe\">\n",
       "  <thead>\n",
       "    <tr style=\"text-align: right;\">\n",
       "      <th></th>\n",
       "      <th>timestamp</th>\n",
       "      <th>meter</th>\n",
       "      <th>power</th>\n",
       "    </tr>\n",
       "  </thead>\n",
       "  <tbody>\n",
       "    <tr>\n",
       "      <th>0</th>\n",
       "      <td>2013-07-01 00:00:00</td>\n",
       "      <td>triplex_meter_0</td>\n",
       "      <td>510.912</td>\n",
       "    </tr>\n",
       "    <tr>\n",
       "      <th>1</th>\n",
       "      <td>2013-07-01 00:01:00</td>\n",
       "      <td>triplex_meter_0</td>\n",
       "      <td>510.912</td>\n",
       "    </tr>\n",
       "    <tr>\n",
       "      <th>2</th>\n",
       "      <td>2013-07-01 00:02:00</td>\n",
       "      <td>triplex_meter_0</td>\n",
       "      <td>510.912</td>\n",
       "    </tr>\n",
       "    <tr>\n",
       "      <th>3</th>\n",
       "      <td>2013-07-01 00:03:00</td>\n",
       "      <td>triplex_meter_0</td>\n",
       "      <td>510.912</td>\n",
       "    </tr>\n",
       "    <tr>\n",
       "      <th>4</th>\n",
       "      <td>2013-07-01 00:04:00</td>\n",
       "      <td>triplex_meter_0</td>\n",
       "      <td>510.911</td>\n",
       "    </tr>\n",
       "  </tbody>\n",
       "</table>\n",
       "</div>"
      ],
      "text/plain": [
       "            timestamp            meter    power\n",
       "0 2013-07-01 00:00:00  triplex_meter_0  510.912\n",
       "1 2013-07-01 00:01:00  triplex_meter_0  510.912\n",
       "2 2013-07-01 00:02:00  triplex_meter_0  510.912\n",
       "3 2013-07-01 00:03:00  triplex_meter_0  510.912\n",
       "4 2013-07-01 00:04:00  triplex_meter_0  510.911"
      ]
     },
     "execution_count": 39,
     "metadata": {},
     "output_type": "execute_result"
    }
   ],
   "source": [
    "stacked.rename(columns = {'variable': 'meter', 'value': 'power'}, inplace=True)\n",
    "stacked.head()"
   ]
  },
  {
   "cell_type": "markdown",
   "metadata": {},
   "source": [
    "How do we select just a few meters?  Easier than column selection?"
   ]
  },
  {
   "cell_type": "code",
   "execution_count": 40,
   "metadata": {},
   "outputs": [
    {
     "data": {
      "text/plain": [
       "0    True\n",
       "1    True\n",
       "2    True\n",
       "3    True\n",
       "4    True\n",
       "Name: meter, dtype: bool"
      ]
     },
     "execution_count": 40,
     "metadata": {},
     "output_type": "execute_result"
    }
   ],
   "source": [
    "filter_index = stacked['meter'].isin(['triplex_meter_0', 'triplex_meter_1'])\n",
    "filter_index.head()"
   ]
  },
  {
   "cell_type": "code",
   "execution_count": 41,
   "metadata": {},
   "outputs": [
    {
     "data": {
      "text/html": [
       "<div>\n",
       "<style scoped>\n",
       "    .dataframe tbody tr th:only-of-type {\n",
       "        vertical-align: middle;\n",
       "    }\n",
       "\n",
       "    .dataframe tbody tr th {\n",
       "        vertical-align: top;\n",
       "    }\n",
       "\n",
       "    .dataframe thead th {\n",
       "        text-align: right;\n",
       "    }\n",
       "</style>\n",
       "<table border=\"1\" class=\"dataframe\">\n",
       "  <thead>\n",
       "    <tr style=\"text-align: right;\">\n",
       "      <th></th>\n",
       "      <th>timestamp</th>\n",
       "      <th>meter</th>\n",
       "      <th>power</th>\n",
       "    </tr>\n",
       "  </thead>\n",
       "  <tbody>\n",
       "    <tr>\n",
       "      <th>0</th>\n",
       "      <td>2013-07-01 00:00:00</td>\n",
       "      <td>triplex_meter_0</td>\n",
       "      <td>510.912</td>\n",
       "    </tr>\n",
       "    <tr>\n",
       "      <th>1</th>\n",
       "      <td>2013-07-01 00:01:00</td>\n",
       "      <td>triplex_meter_0</td>\n",
       "      <td>510.912</td>\n",
       "    </tr>\n",
       "    <tr>\n",
       "      <th>2</th>\n",
       "      <td>2013-07-01 00:02:00</td>\n",
       "      <td>triplex_meter_0</td>\n",
       "      <td>510.912</td>\n",
       "    </tr>\n",
       "    <tr>\n",
       "      <th>3</th>\n",
       "      <td>2013-07-01 00:03:00</td>\n",
       "      <td>triplex_meter_0</td>\n",
       "      <td>510.912</td>\n",
       "    </tr>\n",
       "    <tr>\n",
       "      <th>4</th>\n",
       "      <td>2013-07-01 00:04:00</td>\n",
       "      <td>triplex_meter_0</td>\n",
       "      <td>510.911</td>\n",
       "    </tr>\n",
       "  </tbody>\n",
       "</table>\n",
       "</div>"
      ],
      "text/plain": [
       "            timestamp            meter    power\n",
       "0 2013-07-01 00:00:00  triplex_meter_0  510.912\n",
       "1 2013-07-01 00:01:00  triplex_meter_0  510.912\n",
       "2 2013-07-01 00:02:00  triplex_meter_0  510.912\n",
       "3 2013-07-01 00:03:00  triplex_meter_0  510.912\n",
       "4 2013-07-01 00:04:00  triplex_meter_0  510.911"
      ]
     },
     "execution_count": 41,
     "metadata": {},
     "output_type": "execute_result"
    }
   ],
   "source": [
    "stacked = stacked[filter_index]\n",
    "stacked.head()"
   ]
  },
  {
   "cell_type": "markdown",
   "metadata": {},
   "source": [
    "We can check this with **pivot**"
   ]
  },
  {
   "cell_type": "code",
   "execution_count": 42,
   "metadata": {},
   "outputs": [
    {
     "data": {
      "text/html": [
       "<div>\n",
       "<style scoped>\n",
       "    .dataframe tbody tr th:only-of-type {\n",
       "        vertical-align: middle;\n",
       "    }\n",
       "\n",
       "    .dataframe tbody tr th {\n",
       "        vertical-align: top;\n",
       "    }\n",
       "\n",
       "    .dataframe thead th {\n",
       "        text-align: right;\n",
       "    }\n",
       "</style>\n",
       "<table border=\"1\" class=\"dataframe\">\n",
       "  <thead>\n",
       "    <tr style=\"text-align: right;\">\n",
       "      <th>meter</th>\n",
       "      <th>triplex_meter_0</th>\n",
       "      <th>triplex_meter_1</th>\n",
       "    </tr>\n",
       "    <tr>\n",
       "      <th>timestamp</th>\n",
       "      <th></th>\n",
       "      <th></th>\n",
       "    </tr>\n",
       "  </thead>\n",
       "  <tbody>\n",
       "    <tr>\n",
       "      <th>2013-07-01 00:00:00</th>\n",
       "      <td>510.912</td>\n",
       "      <td>510.912</td>\n",
       "    </tr>\n",
       "    <tr>\n",
       "      <th>2013-07-01 00:01:00</th>\n",
       "      <td>510.912</td>\n",
       "      <td>510.912</td>\n",
       "    </tr>\n",
       "    <tr>\n",
       "      <th>2013-07-01 00:02:00</th>\n",
       "      <td>510.912</td>\n",
       "      <td>510.912</td>\n",
       "    </tr>\n",
       "    <tr>\n",
       "      <th>2013-07-01 00:03:00</th>\n",
       "      <td>510.912</td>\n",
       "      <td>510.912</td>\n",
       "    </tr>\n",
       "    <tr>\n",
       "      <th>2013-07-01 00:04:00</th>\n",
       "      <td>510.911</td>\n",
       "      <td>510.911</td>\n",
       "    </tr>\n",
       "  </tbody>\n",
       "</table>\n",
       "</div>"
      ],
      "text/plain": [
       "meter                triplex_meter_0  triplex_meter_1\n",
       "timestamp                                            \n",
       "2013-07-01 00:00:00          510.912          510.912\n",
       "2013-07-01 00:01:00          510.912          510.912\n",
       "2013-07-01 00:02:00          510.912          510.912\n",
       "2013-07-01 00:03:00          510.912          510.912\n",
       "2013-07-01 00:04:00          510.911          510.911"
      ]
     },
     "execution_count": 42,
     "metadata": {},
     "output_type": "execute_result"
    }
   ],
   "source": [
    "stacked.pivot(index=\"timestamp\", columns=\"meter\", values='power').head()"
   ]
  },
  {
   "cell_type": "markdown",
   "metadata": {},
   "source": [
    "Or with **pivot_table**"
   ]
  },
  {
   "cell_type": "code",
   "execution_count": 43,
   "metadata": {},
   "outputs": [
    {
     "data": {
      "text/html": [
       "<div>\n",
       "<style scoped>\n",
       "    .dataframe tbody tr th:only-of-type {\n",
       "        vertical-align: middle;\n",
       "    }\n",
       "\n",
       "    .dataframe tbody tr th {\n",
       "        vertical-align: top;\n",
       "    }\n",
       "\n",
       "    .dataframe thead th {\n",
       "        text-align: right;\n",
       "    }\n",
       "</style>\n",
       "<table border=\"1\" class=\"dataframe\">\n",
       "  <thead>\n",
       "    <tr style=\"text-align: right;\">\n",
       "      <th>meter</th>\n",
       "      <th>triplex_meter_0</th>\n",
       "      <th>triplex_meter_1</th>\n",
       "    </tr>\n",
       "    <tr>\n",
       "      <th>timestamp</th>\n",
       "      <th></th>\n",
       "      <th></th>\n",
       "    </tr>\n",
       "  </thead>\n",
       "  <tbody>\n",
       "    <tr>\n",
       "      <th>2013-07-01 00:00:00</th>\n",
       "      <td>510.912</td>\n",
       "      <td>510.912</td>\n",
       "    </tr>\n",
       "    <tr>\n",
       "      <th>2013-07-01 00:01:00</th>\n",
       "      <td>510.912</td>\n",
       "      <td>510.912</td>\n",
       "    </tr>\n",
       "    <tr>\n",
       "      <th>2013-07-01 00:02:00</th>\n",
       "      <td>510.912</td>\n",
       "      <td>510.912</td>\n",
       "    </tr>\n",
       "    <tr>\n",
       "      <th>2013-07-01 00:03:00</th>\n",
       "      <td>510.912</td>\n",
       "      <td>510.912</td>\n",
       "    </tr>\n",
       "    <tr>\n",
       "      <th>2013-07-01 00:04:00</th>\n",
       "      <td>510.911</td>\n",
       "      <td>510.911</td>\n",
       "    </tr>\n",
       "  </tbody>\n",
       "</table>\n",
       "</div>"
      ],
      "text/plain": [
       "meter                triplex_meter_0  triplex_meter_1\n",
       "timestamp                                            \n",
       "2013-07-01 00:00:00          510.912          510.912\n",
       "2013-07-01 00:01:00          510.912          510.912\n",
       "2013-07-01 00:02:00          510.912          510.912\n",
       "2013-07-01 00:03:00          510.912          510.912\n",
       "2013-07-01 00:04:00          510.911          510.911"
      ]
     },
     "execution_count": 43,
     "metadata": {},
     "output_type": "execute_result"
    }
   ],
   "source": [
    "pd.pivot_table(stacked, index=\"timestamp\", columns=\"meter\", values='power', aggfunc=\"sum\").head()"
   ]
  },
  {
   "cell_type": "markdown",
   "metadata": {},
   "source": [
    "## Create the base table "
   ]
  },
  {
   "cell_type": "markdown",
   "metadata": {},
   "source": [
    "We just want the mean values by **triplex_meter**."
   ]
  },
  {
   "cell_type": "code",
   "execution_count": 44,
   "metadata": {},
   "outputs": [
    {
     "data": {
      "text/plain": [
       "triplex_meter_0     197.401486\n",
       "triplex_meter_1      85.223124\n",
       "triplex_meter_2    1225.211889\n",
       "triplex_meter_3    1018.304115\n",
       "triplex_meter_4    1173.583409\n",
       "dtype: float64"
      ]
     },
     "execution_count": 44,
     "metadata": {},
     "output_type": "execute_result"
    }
   ],
   "source": [
    "mean_power = df.mean()\n",
    "mean_power.head()"
   ]
  },
  {
   "cell_type": "code",
   "execution_count": 45,
   "metadata": {},
   "outputs": [
    {
     "data": {
      "text/plain": [
       "pandas.core.series.Series"
      ]
     },
     "execution_count": 45,
     "metadata": {},
     "output_type": "execute_result"
    }
   ],
   "source": [
    "type(mean_power)"
   ]
  },
  {
   "cell_type": "code",
   "execution_count": 46,
   "metadata": {},
   "outputs": [
    {
     "data": {
      "text/html": [
       "<div>\n",
       "<style scoped>\n",
       "    .dataframe tbody tr th:only-of-type {\n",
       "        vertical-align: middle;\n",
       "    }\n",
       "\n",
       "    .dataframe tbody tr th {\n",
       "        vertical-align: top;\n",
       "    }\n",
       "\n",
       "    .dataframe thead th {\n",
       "        text-align: right;\n",
       "    }\n",
       "</style>\n",
       "<table border=\"1\" class=\"dataframe\">\n",
       "  <thead>\n",
       "    <tr style=\"text-align: right;\">\n",
       "      <th></th>\n",
       "      <th>index</th>\n",
       "      <th>0</th>\n",
       "    </tr>\n",
       "  </thead>\n",
       "  <tbody>\n",
       "    <tr>\n",
       "      <th>0</th>\n",
       "      <td>triplex_meter_0</td>\n",
       "      <td>197.401486</td>\n",
       "    </tr>\n",
       "    <tr>\n",
       "      <th>1</th>\n",
       "      <td>triplex_meter_1</td>\n",
       "      <td>85.223124</td>\n",
       "    </tr>\n",
       "    <tr>\n",
       "      <th>2</th>\n",
       "      <td>triplex_meter_2</td>\n",
       "      <td>1225.211889</td>\n",
       "    </tr>\n",
       "    <tr>\n",
       "      <th>3</th>\n",
       "      <td>triplex_meter_3</td>\n",
       "      <td>1018.304115</td>\n",
       "    </tr>\n",
       "    <tr>\n",
       "      <th>4</th>\n",
       "      <td>triplex_meter_4</td>\n",
       "      <td>1173.583409</td>\n",
       "    </tr>\n",
       "  </tbody>\n",
       "</table>\n",
       "</div>"
      ],
      "text/plain": [
       "             index            0\n",
       "0  triplex_meter_0   197.401486\n",
       "1  triplex_meter_1    85.223124\n",
       "2  triplex_meter_2  1225.211889\n",
       "3  triplex_meter_3  1018.304115\n",
       "4  triplex_meter_4  1173.583409"
      ]
     },
     "execution_count": 46,
     "metadata": {},
     "output_type": "execute_result"
    }
   ],
   "source": [
    "mean_power = mean_power.reset_index()\n",
    "mean_power.head()"
   ]
  },
  {
   "cell_type": "code",
   "execution_count": 47,
   "metadata": {},
   "outputs": [
    {
     "data": {
      "text/plain": [
       "pandas.core.frame.DataFrame"
      ]
     },
     "execution_count": 47,
     "metadata": {},
     "output_type": "execute_result"
    }
   ],
   "source": [
    "mean_power.columns = ['house', 'power']\n",
    "type(mean_power)"
   ]
  },
  {
   "cell_type": "code",
   "execution_count": 48,
   "metadata": {},
   "outputs": [
    {
     "data": {
      "text/html": [
       "<div>\n",
       "<style scoped>\n",
       "    .dataframe tbody tr th:only-of-type {\n",
       "        vertical-align: middle;\n",
       "    }\n",
       "\n",
       "    .dataframe tbody tr th {\n",
       "        vertical-align: top;\n",
       "    }\n",
       "\n",
       "    .dataframe thead th {\n",
       "        text-align: right;\n",
       "    }\n",
       "</style>\n",
       "<table border=\"1\" class=\"dataframe\">\n",
       "  <thead>\n",
       "    <tr style=\"text-align: right;\">\n",
       "      <th></th>\n",
       "      <th>house</th>\n",
       "      <th>power</th>\n",
       "    </tr>\n",
       "  </thead>\n",
       "  <tbody>\n",
       "    <tr>\n",
       "      <th>0</th>\n",
       "      <td>triplex_meter_0</td>\n",
       "      <td>197.401486</td>\n",
       "    </tr>\n",
       "    <tr>\n",
       "      <th>1</th>\n",
       "      <td>triplex_meter_1</td>\n",
       "      <td>85.223124</td>\n",
       "    </tr>\n",
       "    <tr>\n",
       "      <th>2</th>\n",
       "      <td>triplex_meter_2</td>\n",
       "      <td>1225.211889</td>\n",
       "    </tr>\n",
       "    <tr>\n",
       "      <th>3</th>\n",
       "      <td>triplex_meter_3</td>\n",
       "      <td>1018.304115</td>\n",
       "    </tr>\n",
       "    <tr>\n",
       "      <th>4</th>\n",
       "      <td>triplex_meter_4</td>\n",
       "      <td>1173.583409</td>\n",
       "    </tr>\n",
       "  </tbody>\n",
       "</table>\n",
       "</div>"
      ],
      "text/plain": [
       "             house        power\n",
       "0  triplex_meter_0   197.401486\n",
       "1  triplex_meter_1    85.223124\n",
       "2  triplex_meter_2  1225.211889\n",
       "3  triplex_meter_3  1018.304115\n",
       "4  triplex_meter_4  1173.583409"
      ]
     },
     "execution_count": 48,
     "metadata": {},
     "output_type": "execute_result"
    }
   ],
   "source": [
    "mean_power.head()"
   ]
  },
  {
   "cell_type": "markdown",
   "metadata": {},
   "source": [
    "## Read the relationship `DataFrame` "
   ]
  },
  {
   "cell_type": "code",
   "execution_count": 49,
   "metadata": {},
   "outputs": [
    {
     "data": {
      "text/html": [
       "<div>\n",
       "<style scoped>\n",
       "    .dataframe tbody tr th:only-of-type {\n",
       "        vertical-align: middle;\n",
       "    }\n",
       "\n",
       "    .dataframe tbody tr th {\n",
       "        vertical-align: top;\n",
       "    }\n",
       "\n",
       "    .dataframe thead th {\n",
       "        text-align: right;\n",
       "    }\n",
       "</style>\n",
       "<table border=\"1\" class=\"dataframe\">\n",
       "  <thead>\n",
       "    <tr style=\"text-align: right;\">\n",
       "      <th></th>\n",
       "      <th>triplex_meter</th>\n",
       "      <th>type</th>\n",
       "    </tr>\n",
       "  </thead>\n",
       "  <tbody>\n",
       "    <tr>\n",
       "      <th>0</th>\n",
       "      <td>triplex_meter_11</td>\n",
       "      <td>nosolar</td>\n",
       "    </tr>\n",
       "    <tr>\n",
       "      <th>1</th>\n",
       "      <td>triplex_meter_18</td>\n",
       "      <td>nosolar</td>\n",
       "    </tr>\n",
       "    <tr>\n",
       "      <th>2</th>\n",
       "      <td>triplex_meter_19</td>\n",
       "      <td>solar</td>\n",
       "    </tr>\n",
       "    <tr>\n",
       "      <th>3</th>\n",
       "      <td>triplex_meter_10</td>\n",
       "      <td>solar</td>\n",
       "    </tr>\n",
       "    <tr>\n",
       "      <th>4</th>\n",
       "      <td>triplex_meter_17</td>\n",
       "      <td>solar</td>\n",
       "    </tr>\n",
       "  </tbody>\n",
       "</table>\n",
       "</div>"
      ],
      "text/plain": [
       "      triplex_meter     type\n",
       "0  triplex_meter_11  nosolar\n",
       "1  triplex_meter_18  nosolar\n",
       "2  triplex_meter_19    solar\n",
       "3  triplex_meter_10    solar\n",
       "4  triplex_meter_17    solar"
      ]
     },
     "execution_count": 49,
     "metadata": {},
     "output_type": "execute_result"
    }
   ],
   "source": [
    "import pandas as pd\n",
    "\n",
    "housedf = pd.read_csv('data/triplex_meter_solar.csv')\n",
    "housedf.head()"
   ]
  },
  {
   "cell_type": "code",
   "execution_count": 50,
   "metadata": {},
   "outputs": [
    {
     "data": {
      "text/html": [
       "<div>\n",
       "<style scoped>\n",
       "    .dataframe tbody tr th:only-of-type {\n",
       "        vertical-align: middle;\n",
       "    }\n",
       "\n",
       "    .dataframe tbody tr th {\n",
       "        vertical-align: top;\n",
       "    }\n",
       "\n",
       "    .dataframe thead th {\n",
       "        text-align: right;\n",
       "    }\n",
       "</style>\n",
       "<table border=\"1\" class=\"dataframe\">\n",
       "  <thead>\n",
       "    <tr style=\"text-align: right;\">\n",
       "      <th></th>\n",
       "      <th>house</th>\n",
       "      <th>power</th>\n",
       "    </tr>\n",
       "  </thead>\n",
       "  <tbody>\n",
       "    <tr>\n",
       "      <th>0</th>\n",
       "      <td>triplex_meter_0</td>\n",
       "      <td>197.401486</td>\n",
       "    </tr>\n",
       "    <tr>\n",
       "      <th>1</th>\n",
       "      <td>triplex_meter_1</td>\n",
       "      <td>85.223124</td>\n",
       "    </tr>\n",
       "    <tr>\n",
       "      <th>2</th>\n",
       "      <td>triplex_meter_2</td>\n",
       "      <td>1225.211889</td>\n",
       "    </tr>\n",
       "    <tr>\n",
       "      <th>3</th>\n",
       "      <td>triplex_meter_3</td>\n",
       "      <td>1018.304115</td>\n",
       "    </tr>\n",
       "    <tr>\n",
       "      <th>4</th>\n",
       "      <td>triplex_meter_4</td>\n",
       "      <td>1173.583409</td>\n",
       "    </tr>\n",
       "  </tbody>\n",
       "</table>\n",
       "</div>"
      ],
      "text/plain": [
       "             house        power\n",
       "0  triplex_meter_0   197.401486\n",
       "1  triplex_meter_1    85.223124\n",
       "2  triplex_meter_2  1225.211889\n",
       "3  triplex_meter_3  1018.304115\n",
       "4  triplex_meter_4  1173.583409"
      ]
     },
     "execution_count": 50,
     "metadata": {},
     "output_type": "execute_result"
    }
   ],
   "source": [
    "mean_power.head()"
   ]
  },
  {
   "cell_type": "markdown",
   "metadata": {},
   "source": [
    "## Merge "
   ]
  },
  {
   "cell_type": "code",
   "execution_count": 51,
   "metadata": {},
   "outputs": [
    {
     "ename": "MergeError",
     "evalue": "No common columns to perform merge on. Merge options: left_on=None, right_on=None, left_index=False, right_index=False",
     "output_type": "error",
     "traceback": [
      "\u001b[0;31m---------------------------------------------------------------------------\u001b[0m",
      "\u001b[0;31mMergeError\u001b[0m                                Traceback (most recent call last)",
      "\u001b[0;32m<ipython-input-51-8bddddce9ecf>\u001b[0m in \u001b[0;36m<module>\u001b[0;34m\u001b[0m\n\u001b[0;32m----> 1\u001b[0;31m \u001b[0mpd\u001b[0m\u001b[0;34m.\u001b[0m\u001b[0mmerge\u001b[0m\u001b[0;34m(\u001b[0m\u001b[0mmean_power\u001b[0m\u001b[0;34m,\u001b[0m \u001b[0mhousedf\u001b[0m\u001b[0;34m)\u001b[0m\u001b[0;34m.\u001b[0m\u001b[0mhead\u001b[0m\u001b[0;34m(\u001b[0m\u001b[0;34m)\u001b[0m\u001b[0;34m\u001b[0m\u001b[0;34m\u001b[0m\u001b[0m\n\u001b[0m",
      "\u001b[0;32m~/.local/lib/python3.7/site-packages/pandas/core/reshape/merge.py\u001b[0m in \u001b[0;36mmerge\u001b[0;34m(left, right, how, on, left_on, right_on, left_index, right_index, sort, suffixes, copy, indicator, validate)\u001b[0m\n\u001b[1;32m     59\u001b[0m                          \u001b[0mright_index\u001b[0m\u001b[0;34m=\u001b[0m\u001b[0mright_index\u001b[0m\u001b[0;34m,\u001b[0m \u001b[0msort\u001b[0m\u001b[0;34m=\u001b[0m\u001b[0msort\u001b[0m\u001b[0;34m,\u001b[0m \u001b[0msuffixes\u001b[0m\u001b[0;34m=\u001b[0m\u001b[0msuffixes\u001b[0m\u001b[0;34m,\u001b[0m\u001b[0;34m\u001b[0m\u001b[0;34m\u001b[0m\u001b[0m\n\u001b[1;32m     60\u001b[0m                          \u001b[0mcopy\u001b[0m\u001b[0;34m=\u001b[0m\u001b[0mcopy\u001b[0m\u001b[0;34m,\u001b[0m \u001b[0mindicator\u001b[0m\u001b[0;34m=\u001b[0m\u001b[0mindicator\u001b[0m\u001b[0;34m,\u001b[0m\u001b[0;34m\u001b[0m\u001b[0;34m\u001b[0m\u001b[0m\n\u001b[0;32m---> 61\u001b[0;31m                          validate=validate)\n\u001b[0m\u001b[1;32m     62\u001b[0m     \u001b[0;32mreturn\u001b[0m \u001b[0mop\u001b[0m\u001b[0;34m.\u001b[0m\u001b[0mget_result\u001b[0m\u001b[0;34m(\u001b[0m\u001b[0;34m)\u001b[0m\u001b[0;34m\u001b[0m\u001b[0;34m\u001b[0m\u001b[0m\n\u001b[1;32m     63\u001b[0m \u001b[0;34m\u001b[0m\u001b[0m\n",
      "\u001b[0;32m~/.local/lib/python3.7/site-packages/pandas/core/reshape/merge.py\u001b[0m in \u001b[0;36m__init__\u001b[0;34m(self, left, right, how, on, left_on, right_on, axis, left_index, right_index, sort, suffixes, copy, indicator, validate)\u001b[0m\n\u001b[1;32m    544\u001b[0m             \u001b[0mwarnings\u001b[0m\u001b[0;34m.\u001b[0m\u001b[0mwarn\u001b[0m\u001b[0;34m(\u001b[0m\u001b[0mmsg\u001b[0m\u001b[0;34m,\u001b[0m \u001b[0mUserWarning\u001b[0m\u001b[0;34m)\u001b[0m\u001b[0;34m\u001b[0m\u001b[0;34m\u001b[0m\u001b[0m\n\u001b[1;32m    545\u001b[0m \u001b[0;34m\u001b[0m\u001b[0m\n\u001b[0;32m--> 546\u001b[0;31m         \u001b[0mself\u001b[0m\u001b[0;34m.\u001b[0m\u001b[0m_validate_specification\u001b[0m\u001b[0;34m(\u001b[0m\u001b[0;34m)\u001b[0m\u001b[0;34m\u001b[0m\u001b[0;34m\u001b[0m\u001b[0m\n\u001b[0m\u001b[1;32m    547\u001b[0m \u001b[0;34m\u001b[0m\u001b[0m\n\u001b[1;32m    548\u001b[0m         \u001b[0;31m# note this function has side effects\u001b[0m\u001b[0;34m\u001b[0m\u001b[0;34m\u001b[0m\u001b[0;34m\u001b[0m\u001b[0m\n",
      "\u001b[0;32m~/.local/lib/python3.7/site-packages/pandas/core/reshape/merge.py\u001b[0m in \u001b[0;36m_validate_specification\u001b[0;34m(self)\u001b[0m\n\u001b[1;32m   1033\u001b[0m                         \u001b[0;34m'left_index={lidx}, right_index={ridx}'\u001b[0m\u001b[0;34m\u001b[0m\u001b[0;34m\u001b[0m\u001b[0m\n\u001b[1;32m   1034\u001b[0m                         .format(lon=self.left_on, ron=self.right_on,\n\u001b[0;32m-> 1035\u001b[0;31m                                 lidx=self.left_index, ridx=self.right_index))\n\u001b[0m\u001b[1;32m   1036\u001b[0m                 \u001b[0;32mif\u001b[0m \u001b[0;32mnot\u001b[0m \u001b[0mcommon_cols\u001b[0m\u001b[0;34m.\u001b[0m\u001b[0mis_unique\u001b[0m\u001b[0;34m:\u001b[0m\u001b[0;34m\u001b[0m\u001b[0;34m\u001b[0m\u001b[0m\n\u001b[1;32m   1037\u001b[0m                     raise MergeError(\"Data columns not unique: {common!r}\"\n",
      "\u001b[0;31mMergeError\u001b[0m: No common columns to perform merge on. Merge options: left_on=None, right_on=None, left_index=False, right_index=False"
     ]
    }
   ],
   "source": [
    "pd.merge(mean_power, housedf).head()"
   ]
  },
  {
   "cell_type": "markdown",
   "metadata": {},
   "source": [
    "One way to fix this is to tell the `merge` function which columns you want to merge on."
   ]
  },
  {
   "cell_type": "code",
   "execution_count": 52,
   "metadata": {},
   "outputs": [
    {
     "data": {
      "text/html": [
       "<div>\n",
       "<style scoped>\n",
       "    .dataframe tbody tr th:only-of-type {\n",
       "        vertical-align: middle;\n",
       "    }\n",
       "\n",
       "    .dataframe tbody tr th {\n",
       "        vertical-align: top;\n",
       "    }\n",
       "\n",
       "    .dataframe thead th {\n",
       "        text-align: right;\n",
       "    }\n",
       "</style>\n",
       "<table border=\"1\" class=\"dataframe\">\n",
       "  <thead>\n",
       "    <tr style=\"text-align: right;\">\n",
       "      <th></th>\n",
       "      <th>house</th>\n",
       "      <th>power</th>\n",
       "      <th>triplex_meter</th>\n",
       "      <th>type</th>\n",
       "    </tr>\n",
       "  </thead>\n",
       "  <tbody>\n",
       "    <tr>\n",
       "      <th>0</th>\n",
       "      <td>triplex_meter_0</td>\n",
       "      <td>197.401486</td>\n",
       "      <td>triplex_meter_0</td>\n",
       "      <td>solar</td>\n",
       "    </tr>\n",
       "    <tr>\n",
       "      <th>1</th>\n",
       "      <td>triplex_meter_1</td>\n",
       "      <td>85.223124</td>\n",
       "      <td>triplex_meter_1</td>\n",
       "      <td>solar</td>\n",
       "    </tr>\n",
       "    <tr>\n",
       "      <th>2</th>\n",
       "      <td>triplex_meter_2</td>\n",
       "      <td>1225.211889</td>\n",
       "      <td>triplex_meter_2</td>\n",
       "      <td>nosolar</td>\n",
       "    </tr>\n",
       "    <tr>\n",
       "      <th>3</th>\n",
       "      <td>triplex_meter_3</td>\n",
       "      <td>1018.304115</td>\n",
       "      <td>triplex_meter_3</td>\n",
       "      <td>nosolar</td>\n",
       "    </tr>\n",
       "    <tr>\n",
       "      <th>4</th>\n",
       "      <td>triplex_meter_4</td>\n",
       "      <td>1173.583409</td>\n",
       "      <td>triplex_meter_4</td>\n",
       "      <td>nosolar</td>\n",
       "    </tr>\n",
       "  </tbody>\n",
       "</table>\n",
       "</div>"
      ],
      "text/plain": [
       "             house        power    triplex_meter     type\n",
       "0  triplex_meter_0   197.401486  triplex_meter_0    solar\n",
       "1  triplex_meter_1    85.223124  triplex_meter_1    solar\n",
       "2  triplex_meter_2  1225.211889  triplex_meter_2  nosolar\n",
       "3  triplex_meter_3  1018.304115  triplex_meter_3  nosolar\n",
       "4  triplex_meter_4  1173.583409  triplex_meter_4  nosolar"
      ]
     },
     "execution_count": 52,
     "metadata": {},
     "output_type": "execute_result"
    }
   ],
   "source": [
    "pd.merge(mean_power, housedf, left_on='house', right_on='triplex_meter').head()"
   ]
  },
  {
   "cell_type": "markdown",
   "metadata": {},
   "source": [
    "Another option, you can rename the columns."
   ]
  },
  {
   "cell_type": "code",
   "execution_count": 53,
   "metadata": {},
   "outputs": [
    {
     "data": {
      "text/html": [
       "<div>\n",
       "<style scoped>\n",
       "    .dataframe tbody tr th:only-of-type {\n",
       "        vertical-align: middle;\n",
       "    }\n",
       "\n",
       "    .dataframe tbody tr th {\n",
       "        vertical-align: top;\n",
       "    }\n",
       "\n",
       "    .dataframe thead th {\n",
       "        text-align: right;\n",
       "    }\n",
       "</style>\n",
       "<table border=\"1\" class=\"dataframe\">\n",
       "  <thead>\n",
       "    <tr style=\"text-align: right;\">\n",
       "      <th></th>\n",
       "      <th>house</th>\n",
       "      <th>power</th>\n",
       "      <th>type</th>\n",
       "    </tr>\n",
       "  </thead>\n",
       "  <tbody>\n",
       "    <tr>\n",
       "      <th>0</th>\n",
       "      <td>triplex_meter_0</td>\n",
       "      <td>197.401486</td>\n",
       "      <td>solar</td>\n",
       "    </tr>\n",
       "    <tr>\n",
       "      <th>1</th>\n",
       "      <td>triplex_meter_1</td>\n",
       "      <td>85.223124</td>\n",
       "      <td>solar</td>\n",
       "    </tr>\n",
       "    <tr>\n",
       "      <th>2</th>\n",
       "      <td>triplex_meter_2</td>\n",
       "      <td>1225.211889</td>\n",
       "      <td>nosolar</td>\n",
       "    </tr>\n",
       "    <tr>\n",
       "      <th>3</th>\n",
       "      <td>triplex_meter_3</td>\n",
       "      <td>1018.304115</td>\n",
       "      <td>nosolar</td>\n",
       "    </tr>\n",
       "    <tr>\n",
       "      <th>4</th>\n",
       "      <td>triplex_meter_4</td>\n",
       "      <td>1173.583409</td>\n",
       "      <td>nosolar</td>\n",
       "    </tr>\n",
       "  </tbody>\n",
       "</table>\n",
       "</div>"
      ],
      "text/plain": [
       "             house        power     type\n",
       "0  triplex_meter_0   197.401486    solar\n",
       "1  triplex_meter_1    85.223124    solar\n",
       "2  triplex_meter_2  1225.211889  nosolar\n",
       "3  triplex_meter_3  1018.304115  nosolar\n",
       "4  triplex_meter_4  1173.583409  nosolar"
      ]
     },
     "execution_count": 53,
     "metadata": {},
     "output_type": "execute_result"
    }
   ],
   "source": [
    "housedf.columns = ['house', 'type']\n",
    "pd.merge(mean_power, housedf).head()"
   ]
  },
  {
   "cell_type": "code",
   "execution_count": 54,
   "metadata": {},
   "outputs": [
    {
     "data": {
      "text/html": [
       "<div>\n",
       "<style scoped>\n",
       "    .dataframe tbody tr th:only-of-type {\n",
       "        vertical-align: middle;\n",
       "    }\n",
       "\n",
       "    .dataframe tbody tr th {\n",
       "        vertical-align: top;\n",
       "    }\n",
       "\n",
       "    .dataframe thead th {\n",
       "        text-align: right;\n",
       "    }\n",
       "</style>\n",
       "<table border=\"1\" class=\"dataframe\">\n",
       "  <thead>\n",
       "    <tr style=\"text-align: right;\">\n",
       "      <th></th>\n",
       "      <th>house</th>\n",
       "      <th>power</th>\n",
       "      <th>type</th>\n",
       "    </tr>\n",
       "  </thead>\n",
       "  <tbody>\n",
       "    <tr>\n",
       "      <th>0</th>\n",
       "      <td>triplex_meter_0</td>\n",
       "      <td>197.401486</td>\n",
       "      <td>solar</td>\n",
       "    </tr>\n",
       "    <tr>\n",
       "      <th>1</th>\n",
       "      <td>triplex_meter_1</td>\n",
       "      <td>85.223124</td>\n",
       "      <td>solar</td>\n",
       "    </tr>\n",
       "    <tr>\n",
       "      <th>2</th>\n",
       "      <td>triplex_meter_2</td>\n",
       "      <td>1225.211889</td>\n",
       "      <td>nosolar</td>\n",
       "    </tr>\n",
       "    <tr>\n",
       "      <th>3</th>\n",
       "      <td>triplex_meter_3</td>\n",
       "      <td>1018.304115</td>\n",
       "      <td>nosolar</td>\n",
       "    </tr>\n",
       "    <tr>\n",
       "      <th>4</th>\n",
       "      <td>triplex_meter_4</td>\n",
       "      <td>1173.583409</td>\n",
       "      <td>nosolar</td>\n",
       "    </tr>\n",
       "  </tbody>\n",
       "</table>\n",
       "</div>"
      ],
      "text/plain": [
       "             house        power     type\n",
       "0  triplex_meter_0   197.401486    solar\n",
       "1  triplex_meter_1    85.223124    solar\n",
       "2  triplex_meter_2  1225.211889  nosolar\n",
       "3  triplex_meter_3  1018.304115  nosolar\n",
       "4  triplex_meter_4  1173.583409  nosolar"
      ]
     },
     "execution_count": 54,
     "metadata": {},
     "output_type": "execute_result"
    }
   ],
   "source": [
    "merged = pd.merge(mean_power, housedf, on='house')\n",
    "merged.head()"
   ]
  },
  {
   "cell_type": "markdown",
   "metadata": {},
   "source": [
    "Average power by type?"
   ]
  },
  {
   "cell_type": "code",
   "execution_count": 55,
   "metadata": {},
   "outputs": [
    {
     "data": {
      "text/plain": [
       "pandas.core.groupby.groupby.DataFrameGroupBy"
      ]
     },
     "execution_count": 55,
     "metadata": {},
     "output_type": "execute_result"
    }
   ],
   "source": [
    "grp = merged.groupby('type')\n",
    "type(grp)"
   ]
  },
  {
   "cell_type": "code",
   "execution_count": 56,
   "metadata": {},
   "outputs": [
    {
     "data": {
      "text/html": [
       "<div>\n",
       "<style scoped>\n",
       "    .dataframe tbody tr th:only-of-type {\n",
       "        vertical-align: middle;\n",
       "    }\n",
       "\n",
       "    .dataframe tbody tr th {\n",
       "        vertical-align: top;\n",
       "    }\n",
       "\n",
       "    .dataframe thead th {\n",
       "        text-align: right;\n",
       "    }\n",
       "</style>\n",
       "<table border=\"1\" class=\"dataframe\">\n",
       "  <thead>\n",
       "    <tr style=\"text-align: right;\">\n",
       "      <th></th>\n",
       "      <th>power</th>\n",
       "    </tr>\n",
       "    <tr>\n",
       "      <th>type</th>\n",
       "      <th></th>\n",
       "    </tr>\n",
       "  </thead>\n",
       "  <tbody>\n",
       "    <tr>\n",
       "      <th>nosolar</th>\n",
       "      <td>1141.269331</td>\n",
       "    </tr>\n",
       "    <tr>\n",
       "      <th>solar</th>\n",
       "      <td>237.341536</td>\n",
       "    </tr>\n",
       "  </tbody>\n",
       "</table>\n",
       "</div>"
      ],
      "text/plain": [
       "               power\n",
       "type                \n",
       "nosolar  1141.269331\n",
       "solar     237.341536"
      ]
     },
     "execution_count": 56,
     "metadata": {},
     "output_type": "execute_result"
    }
   ],
   "source": [
    "grp.mean()"
   ]
  },
  {
   "cell_type": "markdown",
   "metadata": {},
   "source": [
    "We can also use the `agg` function"
   ]
  },
  {
   "cell_type": "code",
   "execution_count": 57,
   "metadata": {},
   "outputs": [
    {
     "data": {
      "text/html": [
       "<div>\n",
       "<style scoped>\n",
       "    .dataframe tbody tr th:only-of-type {\n",
       "        vertical-align: middle;\n",
       "    }\n",
       "\n",
       "    .dataframe tbody tr th {\n",
       "        vertical-align: top;\n",
       "    }\n",
       "\n",
       "    .dataframe thead tr th {\n",
       "        text-align: left;\n",
       "    }\n",
       "\n",
       "    .dataframe thead tr:last-of-type th {\n",
       "        text-align: right;\n",
       "    }\n",
       "</style>\n",
       "<table border=\"1\" class=\"dataframe\">\n",
       "  <thead>\n",
       "    <tr>\n",
       "      <th></th>\n",
       "      <th colspan=\"4\" halign=\"left\">power</th>\n",
       "    </tr>\n",
       "    <tr>\n",
       "      <th></th>\n",
       "      <th>mean</th>\n",
       "      <th>std</th>\n",
       "      <th>max</th>\n",
       "      <th>min</th>\n",
       "    </tr>\n",
       "    <tr>\n",
       "      <th>type</th>\n",
       "      <th></th>\n",
       "      <th></th>\n",
       "      <th></th>\n",
       "      <th></th>\n",
       "    </tr>\n",
       "  </thead>\n",
       "  <tbody>\n",
       "    <tr>\n",
       "      <th>nosolar</th>\n",
       "      <td>1141.269331</td>\n",
       "      <td>102.243551</td>\n",
       "      <td>1302.686807</td>\n",
       "      <td>999.123472</td>\n",
       "    </tr>\n",
       "    <tr>\n",
       "      <th>solar</th>\n",
       "      <td>237.341536</td>\n",
       "      <td>114.565510</td>\n",
       "      <td>425.965910</td>\n",
       "      <td>85.223124</td>\n",
       "    </tr>\n",
       "  </tbody>\n",
       "</table>\n",
       "</div>"
      ],
      "text/plain": [
       "               power                                     \n",
       "                mean         std          max         min\n",
       "type                                                     \n",
       "nosolar  1141.269331  102.243551  1302.686807  999.123472\n",
       "solar     237.341536  114.565510   425.965910   85.223124"
      ]
     },
     "execution_count": 57,
     "metadata": {},
     "output_type": "execute_result"
    }
   ],
   "source": [
    "grp.agg(['mean', 'std', 'max', 'min'])"
   ]
  },
  {
   "cell_type": "markdown",
   "metadata": {},
   "source": [
    "What about average power by `house` by `type`?"
   ]
  },
  {
   "cell_type": "code",
   "execution_count": 58,
   "metadata": {},
   "outputs": [
    {
     "data": {
      "text/html": [
       "<div>\n",
       "<style scoped>\n",
       "    .dataframe tbody tr th:only-of-type {\n",
       "        vertical-align: middle;\n",
       "    }\n",
       "\n",
       "    .dataframe tbody tr th {\n",
       "        vertical-align: top;\n",
       "    }\n",
       "\n",
       "    .dataframe thead th {\n",
       "        text-align: right;\n",
       "    }\n",
       "</style>\n",
       "<table border=\"1\" class=\"dataframe\">\n",
       "  <thead>\n",
       "    <tr style=\"text-align: right;\">\n",
       "      <th>type</th>\n",
       "      <th>nosolar</th>\n",
       "      <th>solar</th>\n",
       "    </tr>\n",
       "    <tr>\n",
       "      <th>house</th>\n",
       "      <th></th>\n",
       "      <th></th>\n",
       "    </tr>\n",
       "  </thead>\n",
       "  <tbody>\n",
       "    <tr>\n",
       "      <th>triplex_meter_0</th>\n",
       "      <td>NaN</td>\n",
       "      <td>197.401486</td>\n",
       "    </tr>\n",
       "    <tr>\n",
       "      <th>triplex_meter_1</th>\n",
       "      <td>NaN</td>\n",
       "      <td>85.223124</td>\n",
       "    </tr>\n",
       "    <tr>\n",
       "      <th>triplex_meter_10</th>\n",
       "      <td>NaN</td>\n",
       "      <td>425.965910</td>\n",
       "    </tr>\n",
       "    <tr>\n",
       "      <th>triplex_meter_11</th>\n",
       "      <td>1150.707959</td>\n",
       "      <td>NaN</td>\n",
       "    </tr>\n",
       "    <tr>\n",
       "      <th>triplex_meter_12</th>\n",
       "      <td>1088.173470</td>\n",
       "      <td>NaN</td>\n",
       "    </tr>\n",
       "  </tbody>\n",
       "</table>\n",
       "</div>"
      ],
      "text/plain": [
       "type                  nosolar       solar\n",
       "house                                    \n",
       "triplex_meter_0           NaN  197.401486\n",
       "triplex_meter_1           NaN   85.223124\n",
       "triplex_meter_10          NaN  425.965910\n",
       "triplex_meter_11  1150.707959         NaN\n",
       "triplex_meter_12  1088.173470         NaN"
      ]
     },
     "execution_count": 58,
     "metadata": {},
     "output_type": "execute_result"
    }
   ],
   "source": [
    "merged.pivot(index='house', columns='type', values='power').head()"
   ]
  },
  {
   "cell_type": "code",
   "execution_count": 59,
   "metadata": {},
   "outputs": [
    {
     "data": {
      "text/plain": [
       "<matplotlib.axes._subplots.AxesSubplot at 0x7fb060f43208>"
      ]
     },
     "execution_count": 59,
     "metadata": {},
     "output_type": "execute_result"
    },
    {
     "data": {
      "image/png": "[encoded data removed]",
      "text/plain": [
       "<Figure size 864x432 with 1 Axes>"
      ]
     },
     "metadata": {},
     "output_type": "display_data"
    }
   ],
   "source": [
    "merged.pivot(index='house', columns='type', values='power').boxplot(return_type='axes')"
   ]
  },
  {
   "cell_type": "code",
   "execution_count": 60,
   "metadata": {},
   "outputs": [
    {
     "data": {
      "text/plain": [
       "<matplotlib.axes._subplots.AxesSubplot at 0x7fb060ee8320>"
      ]
     },
     "execution_count": 60,
     "metadata": {},
     "output_type": "execute_result"
    },
    {
     "data": {
      "image/png": "[encoded data removed]",
      "text/plain": [
       "<Figure size 864x432 with 1 Axes>"
      ]
     },
     "metadata": {},
     "output_type": "display_data"
    }
   ],
   "source": [
    "sns.boxplot(data=merged, y='power', x='type')"
   ]
  }
 ],
 "metadata": {
  "kernelspec": {
   "display_name": "Python 3",
   "language": "python",
   "name": "python3"
  },
  "language_info": {
   "codemirror_mode": {
    "name": "ipython",
    "version": 3
   },
   "file_extension": ".py",
   "mimetype": "text/x-python",
   "name": "python",
   "nbconvert_exporter": "python",
   "pygments_lexer": "ipython3",
   "version": "3.7.3rc1"
  }
 },
 "nbformat": 4,
 "nbformat_minor": 1
}
